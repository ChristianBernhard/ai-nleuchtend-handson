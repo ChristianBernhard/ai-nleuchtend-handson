{
 "cells": [
  {
   "cell_type": "code",
   "execution_count": 1,
   "metadata": {
    "ExecuteTime": {
     "end_time": "2024-04-24T15:35:32.579378913Z",
     "start_time": "2024-04-24T15:35:31.267013722Z"
    }
   },
   "outputs": [],
   "source": [
    "import torch\n",
    "import torch.nn as nn\n",
    "import torch.optim as optim\n",
    "from torchvision import datasets, transforms\n",
    "from torch.utils.data import DataLoader\n",
    "import matplotlib.pyplot as plt\n",
    "import os\n",
    "import pickle"
   ]
  },
  {
   "cell_type": "code",
   "execution_count": 2,
   "metadata": {
    "ExecuteTime": {
     "end_time": "2024-04-24T15:35:32.626950699Z",
     "start_time": "2024-04-24T15:35:32.625812263Z"
    }
   },
   "outputs": [
    {
     "name": "stdout",
     "output_type": "stream",
     "text": [
      "Loading from ./data/mnist_train.pkl\n",
      "Loading from ./data/mnist_test.pkl\n"
     ]
    }
   ],
   "source": [
    "# Transformations applied on each image => converting them to tensor and normalizing\n",
    "transform = transforms.Compose([transforms.ToTensor(), \n",
    "                                transforms.Normalize((0.1307,), (0.3081,))])\n",
    "\n",
    "def load_dataset(train=True):\n",
    "    filename = './data/mnist_train.pkl' if train else './data/mnist_test.pkl'\n",
    "\n",
    "    # Check if the dataset is already saved in pickle file\n",
    "    if os.path.exists(filename):\n",
    "        print(f\"Loading from {filename}\")\n",
    "        with open(filename, 'rb') as f:\n",
    "            dataset = pickle.load(f)\n",
    "    else:\n",
    "        print(f\"Downloading and saving to {filename}\")\n",
    "        dataset = datasets.MNIST(root='./data', train=train, transform=transform, download=True)\n",
    "        os.makedirs(os.path.dirname(filename), exist_ok=True)\n",
    "        with open(filename, 'wb') as f:\n",
    "            pickle.dump(dataset, f)\n",
    "\n",
    "    return dataset\n",
    "\n",
    "# Loading datasets\n",
    "train_dataset = load_dataset(train=True)\n",
    "train_loader = DataLoader(train_dataset, batch_size=16, shuffle=True)\n",
    "\n",
    "test_dataset = load_dataset(train=False)\n",
    "test_loader = DataLoader(test_dataset, batch_size=16, shuffle=False)"
   ]
  },
  {
   "cell_type": "code",
   "execution_count": 3,
   "metadata": {
    "ExecuteTime": {
     "end_time": "2024-04-24T15:35:32.787918830Z",
     "start_time": "2024-04-24T15:35:32.626566869Z"
    }
   },
   "outputs": [
    {
     "data": {
      "text/plain": "<Figure size 1000x400 with 6 Axes>",
      "image/png": "[encoded data removed]"
     },
     "metadata": {},
     "output_type": "display_data"
    }
   ],
   "source": [
    "examples = enumerate(test_loader)\n",
    "batch_idx, (example_data, example_targets) = next(examples)\n",
    "\n",
    "fig = plt.figure(figsize=(10, 4))\n",
    "for i in range(6):\n",
    "    plt.subplot(2, 3, i + 1)\n",
    "    plt.tight_layout()\n",
    "    plt.imshow(example_data[i][0], cmap='gray', interpolation='none')\n",
    "    plt.title(f\"Ground Truth: {example_targets[i]}\")\n",
    "    plt.xticks([])\n",
    "    plt.yticks([])\n",
    "plt.show()"
   ]
  },
  {
   "cell_type": "code",
   "execution_count": 4,
   "metadata": {
    "ExecuteTime": {
     "end_time": "2024-04-24T15:35:32.800326974Z",
     "start_time": "2024-04-24T15:35:32.787298510Z"
    }
   },
   "outputs": [],
   "source": [
    "class Net(nn.Module):\n",
    "    def __init__(self):\n",
    "        super(Net, self).__init__()\n",
    "        self.fc1 = nn.Linear(28*28, 200) ## Input Image: 28*28; Neuronen: 200\n",
    "        self.fc2 = nn.Linear(200, 10) ## Neuronen: 200; Output Klassen: 10\n",
    "\n",
    "    def forward(self, x):\n",
    "        x = x.view(-1, 28*28) ## Mache aus 28*28 Bild einen 1-dim Vektor\n",
    "        x = torch.relu(self.fc1(x)) ## Stecke 1-dim Vektor in Neuronenlayer\n",
    "        x = self.fc2(x) ## Stecke Output von ersten Neuronenlayer in zweiten Neuronenlayer\n",
    "        return x\n",
    "\n",
    "model = Net()\n",
    "kostenfunktion = nn.CrossEntropyLoss() ## Kostenfunktion (Y-Ŷ)\n",
    "verarbeitungsschritt = optim.Adam(model.parameters(), lr=0.001) ## Bieger der Funktion für bessere Resultate bei Kostenfunktion"
   ]
  },
  {
   "cell_type": "code",
   "execution_count": 5,
   "metadata": {
    "ExecuteTime": {
     "end_time": "2024-04-24T15:35:32.800598206Z",
     "start_time": "2024-04-24T15:35:32.793419523Z"
    }
   },
   "outputs": [],
   "source": [
    "def train(epoch):\n",
    "    model.train()\n",
    "    trainings_kosten = 0\n",
    "    correct = 0\n",
    "    for bild, wahrheitswert in train_loader: # Wir gehen über alle Daten Bild für Bild\n",
    "        verarbeitungsschritt.zero_grad()\n",
    "        output = model(bild) ## Gebe Bild hinein\n",
    "        loss = kostenfunktion(output, wahrheitswert) ## Ŷ - Y\n",
    "\n",
    "        trainings_kosten += loss.item()\n",
    "        pred = output.argmax(dim=1, keepdim=True)\n",
    "        correct += pred.eq(wahrheitswert.view_as(pred)).sum().item()\n",
    "\n",
    "        loss.backward()\n",
    "        verarbeitungsschritt.step() ## Update die Parameter des Models\n",
    "    trainings_kosten /= len(train_loader.dataset)\n",
    "    train_accuracy = 100. * correct / len(train_loader.dataset)\n",
    "    print(f'Train Epoch: {epoch} \\tLoss: {trainings_kosten:.6f} \\tAccuracy: {train_accuracy:.2f}%')\n",
    "    return trainings_kosten, train_accuracy\n",
    "\n",
    "def test():\n",
    "    model.eval()\n",
    "    test_kosten = 0\n",
    "    correct = 0\n",
    "    with torch.no_grad():\n",
    "        for data, target in test_loader:\n",
    "            output = model(data)\n",
    "            test_kosten += kostenfunktion(output, target).item()\n",
    "            pred = output.argmax(dim=1, keepdim=True)\n",
    "            correct += pred.eq(target.view_as(pred)).sum().item()\n",
    "    test_kosten /= len(test_loader.dataset)\n",
    "    test_accuracy = 100. * correct / len(test_loader.dataset)\n",
    "    print(f'\\nTest set: Average loss: {test_kosten:.4f}, Accuracy: {correct}/{len(test_loader.dataset)} ({test_accuracy:.0f}%)\\n')\n",
    "    return test_kosten, test_accuracy"
   ]
  },
  {
   "cell_type": "code",
   "execution_count": null,
   "metadata": {
    "is_executing": true,
    "ExecuteTime": {
     "start_time": "2024-04-24T15:35:32.795540291Z"
    }
   },
   "outputs": [
    {
     "name": "stderr",
     "output_type": "stream",
     "text": [
      "/home/berni/Desktop/ai-nleuchtend-handson/venv/lib/python3.11/site-packages/torch/autograd/__init__.py:251: UserWarning: CUDA initialization: The NVIDIA driver on your system is too old (found version 11040). Please update your GPU driver by downloading and installing a new version from the URL: http://www.nvidia.com/Download/index.aspx Alternatively, go to: https://pytorch.org to install a PyTorch version that has been compiled with your version of the CUDA driver. (Triggered internally at ../c10/cuda/CUDAFunctions.cpp:108.)\n",
      "  Variable._execution_engine.run_backward(  # Calls into the C++ engine to run the backward pass\n"
     ]
    },
    {
     "name": "stdout",
     "output_type": "stream",
     "text": [
      "Train Epoch: 1 \tLoss: 0.012537 \tAccuracy: 93.87%\n",
      "\n",
      "Test set: Average loss: 0.0065, Accuracy: 9700/10000 (97%)\n",
      "Train Epoch: 2 \tLoss: 0.005990 \tAccuracy: 97.02%\n",
      "\n",
      "Test set: Average loss: 0.0055, Accuracy: 9707/10000 (97%)\n",
      "Train Epoch: 3 \tLoss: 0.004518 \tAccuracy: 97.73%\n",
      "\n",
      "Test set: Average loss: 0.0058, Accuracy: 9723/10000 (97%)\n",
      "Train Epoch: 4 \tLoss: 0.003720 \tAccuracy: 98.13%\n",
      "\n",
      "Test set: Average loss: 0.0056, Accuracy: 9733/10000 (97%)\n",
      "Train Epoch: 5 \tLoss: 0.002973 \tAccuracy: 98.44%\n",
      "\n",
      "Test set: Average loss: 0.0061, Accuracy: 9732/10000 (97%)\n",
      "Train Epoch: 6 \tLoss: 0.002555 \tAccuracy: 98.67%\n",
      "\n",
      "Test set: Average loss: 0.0055, Accuracy: 9772/10000 (98%)\n",
      "Train Epoch: 7 \tLoss: 0.002174 \tAccuracy: 98.86%\n",
      "\n",
      "Test set: Average loss: 0.0093, Accuracy: 9638/10000 (96%)\n"
     ]
    }
   ],
   "source": [
    "epochs = 10\n",
    "train_losses, train_accuracies = [], []\n",
    "test_losses, test_accuracies = [], []\n",
    "\n",
    "for epoch in range(1, epochs + 1):\n",
    "    train_loss, train_accuracy = train(epoch)\n",
    "    test_loss, test_accuracy = test()\n",
    "    train_losses.append(train_loss)\n",
    "    train_accuracies.append(train_accuracy)\n",
    "    test_losses.append(test_loss)\n",
    "    test_accuracies.append(test_accuracy)"
   ]
  },
  {
   "cell_type": "code",
   "execution_count": null,
   "metadata": {
    "is_executing": true
   },
   "outputs": [],
   "source": [
    "plt.figure(figsize=(10,4))\n",
    "plt.subplot(1,2,1)\n",
    "plt.plot(range(1, epochs + 1), train_losses, label='Train Loss')\n",
    "plt.plot(range(1, epochs + 1), test_losses, label='Test Loss')\n",
    "plt.title('Loss over Epochs')\n",
    "plt.xlabel('Epochs')\n",
    "plt.ylabel('Loss')\n",
    "plt.legend()\n",
    "\n",
    "plt.subplot(1,2,2)\n",
    "plt.plot(range(1, epochs + 1), train_accuracies, label='Train Accuracy')\n",
    "plt.plot(range(1, epochs + 1), test_accuracies, label='Test Accuracy')\n",
    "plt.title('Accuracy over Epochs')\n",
    "plt.xlabel('Epochs')\n",
    "plt.ylabel('Accuracy (%)')\n",
    "plt.legend()\n",
    "\n",
    "plt.tight_layout()\n",
    "plt.show()"
   ]
  },
  {
   "cell_type": "code",
   "execution_count": null,
   "metadata": {
    "is_executing": true
   },
   "outputs": [],
   "source": [
    "with torch.no_grad():\n",
    "    batch_idx, (example_data, example_targets) = next(examples)\n",
    "    output = model(example_data)\n",
    "    predicted = output.argmax(dim=1, keepdim=True)\n",
    "\n",
    "fig = plt.figure(figsize=(10, 4))\n",
    "for i in range(6):\n",
    "    plt.subplot(2, 3, i + 1)\n",
    "    plt.tight_layout()\n",
    "    plt.imshow(example_data[i][0], cmap='gray', interpolation='none')\n",
    "    plt.title(f\"Truth: {example_targets[i]}\\nPredicted: {predicted[i].item()}\")\n",
    "    plt.xticks([])\n",
    "    plt.yticks([])\n",
    "plt.show()"
   ]
  },
  {
   "cell_type": "code",
   "execution_count": null,
   "metadata": {
    "is_executing": true
   },
   "outputs": [],
   "source": [
    "def plot_incorrect_predictions(model, loader, num_images=6):\n",
    "    model.eval()\n",
    "    incorrect_examples = []\n",
    "    \n",
    "    with torch.no_grad():\n",
    "        for data, target in loader:\n",
    "            output = model(data)\n",
    "            pred = output.argmax(dim=1, keepdim=True)\n",
    "            idxs_mask = ((pred == target.view_as(pred)) == False).view(-1)\n",
    "            incorrect_preds = pred[idxs_mask].view(-1)\n",
    "            actual_labels = target.view_as(pred)[idxs_mask].view(-1)\n",
    "            data = data[idxs_mask]\n",
    "            for i in range(data.shape[0]):\n",
    "                if len(incorrect_examples) < num_images:\n",
    "                    incorrect_examples.append((data[i], incorrect_preds[i], actual_labels[i]))\n",
    "                else:\n",
    "                    break\n",
    "            if len(incorrect_examples) == num_images:\n",
    "                break\n",
    "\n",
    "    fig = plt.figure(figsize=(10, 4))\n",
    "    for i, (img, pred, actual) in enumerate(incorrect_examples):\n",
    "        img = img.view(28, 28)\n",
    "        plt.subplot(1, num_images, i + 1)\n",
    "        plt.tight_layout()\n",
    "        plt.imshow(img, cmap='gray', interpolation='none')\n",
    "        plt.title(f\"Pred: {pred.item()}\\nActual: {actual.item()}\")\n",
    "        plt.xticks([])\n",
    "        plt.yticks([])\n",
    "    plt.show()\n",
    "\n",
    "# Usage\n",
    "plot_incorrect_predictions(model, test_loader)"
   ]
  },
  {
   "cell_type": "code",
   "execution_count": null,
   "metadata": {
    "is_executing": true
   },
   "outputs": [],
   "source": []
  }
 ],
 "metadata": {
  "kernelspec": {
   "display_name": "Python 3",
   "language": "python",
   "name": "python3"
  },
  "language_info": {
   "codemirror_mode": {
    "name": "ipython",
    "version": 3
   },
   "file_extension": ".py",
   "mimetype": "text/x-python",
   "name": "python",
   "nbconvert_exporter": "python",
   "pygments_lexer": "ipython3",
   "version": "3.11.4"
  }
 },
 "nbformat": 4,
 "nbformat_minor": 2
}
